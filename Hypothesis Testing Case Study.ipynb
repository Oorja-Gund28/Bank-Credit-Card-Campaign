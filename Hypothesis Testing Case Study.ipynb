{
 "cells": [
  {
   "cell_type": "markdown",
   "id": "d03bbcbb",
   "metadata": {},
   "source": [
    "#### 1. Import Packages:"
   ]
  },
  {
   "cell_type": "code",
   "execution_count": 1,
   "id": "28a17dab",
   "metadata": {},
   "outputs": [],
   "source": [
    "import numpy as np\n",
    "import pandas as pd\n",
    "\n",
    "import seaborn as sns\n",
    "\n",
    "import scipy.stats as stats # statistical testings"
   ]
  },
  {
   "cell_type": "markdown",
   "id": "2745c88e",
   "metadata": {},
   "source": [
    "#### 2. Data Availability:"
   ]
  },
  {
   "cell_type": "code",
   "execution_count": 2,
   "id": "b164dbb8",
   "metadata": {},
   "outputs": [
    {
     "data": {
      "text/html": [
       "<div>\n",
       "<style scoped>\n",
       "    .dataframe tbody tr th:only-of-type {\n",
       "        vertical-align: middle;\n",
       "    }\n",
       "\n",
       "    .dataframe tbody tr th {\n",
       "        vertical-align: top;\n",
       "    }\n",
       "\n",
       "    .dataframe thead th {\n",
       "        text-align: right;\n",
       "    }\n",
       "</style>\n",
       "<table border=\"1\" class=\"dataframe\">\n",
       "  <thead>\n",
       "    <tr style=\"text-align: right;\">\n",
       "      <th></th>\n",
       "      <th>custid</th>\n",
       "      <th>gender</th>\n",
       "      <th>AqChannel</th>\n",
       "      <th>region</th>\n",
       "      <th>Marital_status</th>\n",
       "      <th>segment</th>\n",
       "      <th>pre_usage</th>\n",
       "      <th>Post_usage_1month</th>\n",
       "      <th>Latest_mon_usage</th>\n",
       "      <th>post_usage_2ndmonth</th>\n",
       "    </tr>\n",
       "  </thead>\n",
       "  <tbody>\n",
       "    <tr>\n",
       "      <th>0</th>\n",
       "      <td>70</td>\n",
       "      <td>0</td>\n",
       "      <td>4</td>\n",
       "      <td>1</td>\n",
       "      <td>1</td>\n",
       "      <td>1</td>\n",
       "      <td>57</td>\n",
       "      <td>52</td>\n",
       "      <td>49.2</td>\n",
       "      <td>57.2</td>\n",
       "    </tr>\n",
       "    <tr>\n",
       "      <th>1</th>\n",
       "      <td>121</td>\n",
       "      <td>1</td>\n",
       "      <td>4</td>\n",
       "      <td>2</td>\n",
       "      <td>1</td>\n",
       "      <td>3</td>\n",
       "      <td>68</td>\n",
       "      <td>59</td>\n",
       "      <td>63.6</td>\n",
       "      <td>64.9</td>\n",
       "    </tr>\n",
       "    <tr>\n",
       "      <th>2</th>\n",
       "      <td>86</td>\n",
       "      <td>0</td>\n",
       "      <td>4</td>\n",
       "      <td>3</td>\n",
       "      <td>1</td>\n",
       "      <td>1</td>\n",
       "      <td>44</td>\n",
       "      <td>33</td>\n",
       "      <td>64.8</td>\n",
       "      <td>36.3</td>\n",
       "    </tr>\n",
       "  </tbody>\n",
       "</table>\n",
       "</div>"
      ],
      "text/plain": [
       "   custid  gender  AqChannel  region  Marital_status  segment  pre_usage  \\\n",
       "0      70       0          4       1               1        1         57   \n",
       "1     121       1          4       2               1        3         68   \n",
       "2      86       0          4       3               1        1         44   \n",
       "\n",
       "   Post_usage_1month  Latest_mon_usage  post_usage_2ndmonth  \n",
       "0                 52              49.2                 57.2  \n",
       "1                 59              63.6                 64.9  \n",
       "2                 33              64.8                 36.3  "
      ]
     },
     "execution_count": 2,
     "metadata": {},
     "output_type": "execute_result"
    }
   ],
   "source": [
    "data = pd.read_csv(\"D:\\ALabs\\Python for Data Science\\STUDY MATERIAL\\Hypothesis Testing- Case Study\\cust_seg.csv\")\n",
    "data.head(3)"
   ]
  },
  {
   "cell_type": "markdown",
   "id": "c702171d",
   "metadata": {},
   "source": [
    "#### 3. EDA:"
   ]
  },
  {
   "cell_type": "code",
   "execution_count": 3,
   "id": "5d4f8aaf",
   "metadata": {},
   "outputs": [
    {
     "name": "stdout",
     "output_type": "stream",
     "text": [
      "<class 'pandas.core.frame.DataFrame'>\n",
      "RangeIndex: 200 entries, 0 to 199\n",
      "Data columns (total 10 columns):\n",
      " #   Column               Non-Null Count  Dtype  \n",
      "---  ------               --------------  -----  \n",
      " 0   custid               200 non-null    int64  \n",
      " 1   gender               200 non-null    int64  \n",
      " 2   AqChannel            200 non-null    int64  \n",
      " 3   region               200 non-null    int64  \n",
      " 4   Marital_status       200 non-null    int64  \n",
      " 5   segment              200 non-null    int64  \n",
      " 6   pre_usage            200 non-null    int64  \n",
      " 7   Post_usage_1month    200 non-null    int64  \n",
      " 8   Latest_mon_usage     200 non-null    float64\n",
      " 9   post_usage_2ndmonth  200 non-null    float64\n",
      "dtypes: float64(2), int64(8)\n",
      "memory usage: 15.8 KB\n"
     ]
    }
   ],
   "source": [
    "data.info()"
   ]
  },
  {
   "cell_type": "code",
   "execution_count": 4,
   "id": "25c9f3e3",
   "metadata": {},
   "outputs": [
    {
     "data": {
      "text/plain": [
       "1    109\n",
       "0     91\n",
       "Name: gender, dtype: int64"
      ]
     },
     "execution_count": 4,
     "metadata": {},
     "output_type": "execute_result"
    }
   ],
   "source": [
    "data.gender.value_counts()"
   ]
  },
  {
   "cell_type": "code",
   "execution_count": 5,
   "id": "d5205518",
   "metadata": {},
   "outputs": [
    {
     "data": {
      "text/plain": [
       "2    95\n",
       "3    58\n",
       "1    47\n",
       "Name: region, dtype: int64"
      ]
     },
     "execution_count": 5,
     "metadata": {},
     "output_type": "execute_result"
    }
   ],
   "source": [
    "data.region.value_counts()"
   ]
  },
  {
   "cell_type": "code",
   "execution_count": 6,
   "id": "ced0c3b2",
   "metadata": {},
   "outputs": [
    {
     "data": {
      "text/plain": [
       "2    105\n",
       "3     50\n",
       "1     45\n",
       "Name: segment, dtype: int64"
      ]
     },
     "execution_count": 6,
     "metadata": {},
     "output_type": "execute_result"
    }
   ],
   "source": [
    "data.segment.value_counts()"
   ]
  },
  {
   "cell_type": "markdown",
   "id": "84b45d54",
   "metadata": {},
   "source": [
    "### Q1: Relationship between Latest month usage & pre usage"
   ]
  },
  {
   "cell_type": "markdown",
   "id": "2fe192e1",
   "metadata": {},
   "source": [
    "##### 1. Define H0:\n",
    "        \n",
    "        There is no dependency  between latest month usage & pre usage.\n",
    "        \n",
    "##### 2. Define Ha:\n",
    "        \n",
    "        There is dependency between latest month usage & pre usage.\n",
    "        \n",
    "##### 3. At CI = 95%,\n",
    "            \n",
    "            p value = 0.05\n",
    "\n",
    "##### 4. Perform the test:\n",
    "                \n",
    "                pearsonr"
   ]
  },
  {
   "cell_type": "code",
   "execution_count": 7,
   "id": "21c72d72",
   "metadata": {},
   "outputs": [
    {
     "data": {
      "text/plain": [
       "(0.6622801251558604, 1.2767419295069158e-26)"
      ]
     },
     "execution_count": 7,
     "metadata": {},
     "output_type": "execute_result"
    }
   ],
   "source": [
    "stats.pearsonr(data.Latest_mon_usage, data.pre_usage)"
   ]
  },
  {
   "cell_type": "markdown",
   "id": "6f9996c9",
   "metadata": {},
   "source": [
    "##### 5. Rejection Rule:\n",
    "        \n",
    "        Since new p-value < 0.05, We will reject H0!\n",
    "        \n",
    "                    or\n",
    "         Pearsonr co-efficient value is +ve, hence we reject H0!"
   ]
  },
  {
   "cell_type": "markdown",
   "id": "a9820b1d",
   "metadata": {},
   "source": [
    "##### 6. Business Conclusion:\n",
    "        \n",
    "        There is a dependecy between latest month & pre-usage\n",
    "        "
   ]
  },
  {
   "cell_type": "markdown",
   "id": "281c8682",
   "metadata": {},
   "source": [
    "### Q2: Credit card usage has increased from last year which was 50."
   ]
  },
  {
   "cell_type": "markdown",
   "id": "8aebc0ab",
   "metadata": {},
   "source": [
    "##### 1. Define H0:\n",
    "        \n",
    "        u < 50\n",
    "        \n",
    "##### 2. Define Ha:\n",
    "        \n",
    "        u > 50.\n",
    "        \n",
    "##### 3. At CI = 95%,\n",
    "            \n",
    "            p value = 0.05\n",
    "\n",
    "##### 4. Perform the test:\n",
    "                \n",
    "               t-test"
   ]
  },
  {
   "cell_type": "code",
   "execution_count": 8,
   "id": "e0add099",
   "metadata": {},
   "outputs": [
    {
     "data": {
      "text/plain": [
       "Ttest_1sampResult(statistic=16.57233752433133, pvalue=2.4963719280931583e-39)"
      ]
     },
     "execution_count": 8,
     "metadata": {},
     "output_type": "execute_result"
    }
   ],
   "source": [
    "stats.ttest_1samp(data.Latest_mon_usage, 50)"
   ]
  },
  {
   "cell_type": "markdown",
   "id": "bdcf69cf",
   "metadata": {},
   "source": [
    "##### 5. Rejection Rule:\n",
    "\n",
    "        Since new p-value < 0.05, We will reject H0!"
   ]
  },
  {
   "cell_type": "markdown",
   "id": "c6a7e584",
   "metadata": {},
   "source": [
    "##### 6. Business Conclusion:\n",
    "           \n",
    "           Credit card usage is not less as compared to last year usage.\n",
    "    "
   ]
  },
  {
   "cell_type": "code",
   "execution_count": 9,
   "id": "5d7d423b",
   "metadata": {},
   "outputs": [
    {
     "data": {
      "text/plain": [
       "63.17400000000001"
      ]
     },
     "execution_count": 9,
     "metadata": {},
     "output_type": "execute_result"
    }
   ],
   "source": [
    "data.Latest_mon_usage.mean()"
   ]
  },
  {
   "cell_type": "markdown",
   "id": "a67f08c2",
   "metadata": {},
   "source": [
    "### Q3: Is there any relation between Region & Segment?"
   ]
  },
  {
   "cell_type": "code",
   "execution_count": 11,
   "id": "16e93088",
   "metadata": {},
   "outputs": [
    {
     "data": {
      "text/plain": [
       "2    95\n",
       "3    58\n",
       "1    47\n",
       "Name: region, dtype: int64"
      ]
     },
     "execution_count": 11,
     "metadata": {},
     "output_type": "execute_result"
    }
   ],
   "source": [
    "data.region.value_counts()"
   ]
  },
  {
   "cell_type": "code",
   "execution_count": 12,
   "id": "2614cf86",
   "metadata": {},
   "outputs": [
    {
     "data": {
      "text/plain": [
       "2    105\n",
       "3     50\n",
       "1     45\n",
       "Name: segment, dtype: int64"
      ]
     },
     "execution_count": 12,
     "metadata": {},
     "output_type": "execute_result"
    }
   ],
   "source": [
    "data.segment.value_counts()"
   ]
  },
  {
   "cell_type": "code",
   "execution_count": 14,
   "id": "da08e014",
   "metadata": {},
   "outputs": [
    {
     "data": {
      "text/html": [
       "<div>\n",
       "<style scoped>\n",
       "    .dataframe tbody tr th:only-of-type {\n",
       "        vertical-align: middle;\n",
       "    }\n",
       "\n",
       "    .dataframe tbody tr th {\n",
       "        vertical-align: top;\n",
       "    }\n",
       "\n",
       "    .dataframe thead th {\n",
       "        text-align: right;\n",
       "    }\n",
       "</style>\n",
       "<table border=\"1\" class=\"dataframe\">\n",
       "  <thead>\n",
       "    <tr style=\"text-align: right;\">\n",
       "      <th>segment</th>\n",
       "      <th>1</th>\n",
       "      <th>2</th>\n",
       "      <th>3</th>\n",
       "    </tr>\n",
       "    <tr>\n",
       "      <th>region</th>\n",
       "      <th></th>\n",
       "      <th></th>\n",
       "      <th></th>\n",
       "    </tr>\n",
       "  </thead>\n",
       "  <tbody>\n",
       "    <tr>\n",
       "      <th>1</th>\n",
       "      <td>16</td>\n",
       "      <td>19</td>\n",
       "      <td>12</td>\n",
       "    </tr>\n",
       "    <tr>\n",
       "      <th>2</th>\n",
       "      <td>20</td>\n",
       "      <td>44</td>\n",
       "      <td>31</td>\n",
       "    </tr>\n",
       "    <tr>\n",
       "      <th>3</th>\n",
       "      <td>9</td>\n",
       "      <td>42</td>\n",
       "      <td>7</td>\n",
       "    </tr>\n",
       "  </tbody>\n",
       "</table>\n",
       "</div>"
      ],
      "text/plain": [
       "segment   1   2   3\n",
       "region             \n",
       "1        16  19  12\n",
       "2        20  44  31\n",
       "3         9  42   7"
      ]
     },
     "execution_count": 14,
     "metadata": {},
     "output_type": "execute_result"
    }
   ],
   "source": [
    "obs = pd.crosstab(index = data.region, columns= data.segment)\n",
    "obs\n",
    "\n",
    "# observed frequency table"
   ]
  },
  {
   "cell_type": "markdown",
   "id": "8d5f45f6",
   "metadata": {},
   "source": [
    "##### 1. Define H0:\n",
    "        \n",
    "        There is no dependency between region & segment\n",
    "        \n",
    "##### 2. Define Ha:\n",
    "        \n",
    "        There is dependency between region & segment.\n",
    "        \n",
    "##### 3. At CI = 95%,\n",
    "            \n",
    "            p value = 0.05\n",
    "\n",
    "##### 4. Perform the test:\n",
    "                \n",
    "                chi square test"
   ]
  },
  {
   "cell_type": "code",
   "execution_count": 15,
   "id": "ca1ca96d",
   "metadata": {},
   "outputs": [
    {
     "data": {
      "text/plain": [
       "(16.604441649489342,\n",
       " 0.0023066300908054713,\n",
       " 4,\n",
       " array([[10.575, 24.675, 11.75 ],\n",
       "        [21.375, 49.875, 23.75 ],\n",
       "        [13.05 , 30.45 , 14.5  ]]))"
      ]
     },
     "execution_count": 15,
     "metadata": {},
     "output_type": "execute_result"
    }
   ],
   "source": [
    "stats.chi2_contingency(obs)"
   ]
  },
  {
   "cell_type": "markdown",
   "id": "f6da3cf8",
   "metadata": {},
   "source": [
    "##### 5. Rejection Rule:\n",
    "\n",
    "        Since new p-value < 0.05, We will reject H0!\n",
    "        \n",
    "##### 6. Business Conclusions:\n",
    "        \n",
    "        We fail to accept the fact that there is no relation between region & segment"
   ]
  },
  {
   "cell_type": "markdown",
   "id": "6c456fba",
   "metadata": {},
   "source": [
    "### Q4: Difference between segments of the customers in terms of credit card usage."
   ]
  },
  {
   "cell_type": "code",
   "execution_count": 18,
   "id": "b3ab3264",
   "metadata": {},
   "outputs": [],
   "source": [
    "usage = 'pre_usage'"
   ]
  },
  {
   "cell_type": "code",
   "execution_count": 20,
   "id": "dbf0e544",
   "metadata": {},
   "outputs": [],
   "source": [
    "s1 = data.loc[data.segment == 1 , usage]\n",
    "s2 = data.loc[ data.segment ==  2, usage]\n",
    "s3 = data.loc[ data.segment == 3, usage]"
   ]
  },
  {
   "cell_type": "code",
   "execution_count": 22,
   "id": "74a0dd9e",
   "metadata": {},
   "outputs": [
    {
     "name": "stdout",
     "output_type": "stream",
     "text": [
      "Mean credit card usage of segment 1 =  49.75555555555555\n",
      "Mean credit card usage of segment 2 =  56.161904761904765\n",
      "Mean credit card usage of segment 3 =  46.2\n"
     ]
    }
   ],
   "source": [
    "print(\"Mean credit card usage of segment 1 = \", s1.mean())\n",
    "print(\"Mean credit card usage of segment 2 = \", s2.mean())\n",
    "print(\"Mean credit card usage of segment 3 = \", s3.mean())"
   ]
  },
  {
   "cell_type": "markdown",
   "id": "2c49013c",
   "metadata": {},
   "source": [
    "##### 1. Define H0:\n",
    "        \n",
    "        u1 =  u2 = u3\n",
    "        \n",
    "##### 2. Define Ha:\n",
    "        \n",
    "        u1 <> u2 <> u3\n",
    "        \n",
    "##### 3. At CI = 95%,\n",
    "            \n",
    "            p value = 0.05\n",
    "\n",
    "##### 4. Perform the test:\n",
    "                \n",
    "                f-test"
   ]
  },
  {
   "cell_type": "code",
   "execution_count": 23,
   "id": "b865b998",
   "metadata": {},
   "outputs": [
    {
     "data": {
      "text/plain": [
       "F_onewayResult(statistic=21.28234763340855, pvalue=4.283274139124812e-09)"
      ]
     },
     "execution_count": 23,
     "metadata": {},
     "output_type": "execute_result"
    }
   ],
   "source": [
    "stats.f_oneway(s1, s2, s3)"
   ]
  },
  {
   "cell_type": "markdown",
   "id": "ec9ad3d1",
   "metadata": {},
   "source": [
    "##### 5. Rejection Rule:\n",
    "        \n",
    "        Since new p-value < 0.05, We will reject H0!\n",
    "\n",
    "##### 6. Business  Conclusion:\n",
    "        \n",
    "        Different segments of customers use the card differently"
   ]
  },
  {
   "cell_type": "markdown",
   "id": "16b4bb55",
   "metadata": {},
   "source": [
    "### Q5. Is there any difference between male & female in terms of credit card usage?"
   ]
  },
  {
   "cell_type": "code",
   "execution_count": 25,
   "id": "190d05c1",
   "metadata": {},
   "outputs": [],
   "source": [
    "##### Before Campaign:\n",
    "usage = 'pre_usage'"
   ]
  },
  {
   "cell_type": "code",
   "execution_count": 26,
   "id": "6691391d",
   "metadata": {},
   "outputs": [],
   "source": [
    "male_usage = data.loc[data.gender == 0, usage]\n",
    "female_usage = data.loc[ data.gender ==  1, usage]"
   ]
  },
  {
   "cell_type": "code",
   "execution_count": 28,
   "id": "c90c3928",
   "metadata": {},
   "outputs": [
    {
     "name": "stdout",
     "output_type": "stream",
     "text": [
      "Mean card usage for male customers =  52.824175824175825\n",
      "Mean card usage for female customers =  51.73394495412844\n"
     ]
    }
   ],
   "source": [
    "print(\"Mean card usage for male customers = \", male_usage.mean())\n",
    "print(\"Mean card usage for female customers = \", female_usage.mean())"
   ]
  },
  {
   "cell_type": "markdown",
   "id": "95848c3a",
   "metadata": {},
   "source": [
    "##### 1. Define H0:\n",
    "        \n",
    "        credit card usage for male & female is same\n",
    "                        or\n",
    "                      u1 =  u2\n",
    "        \n",
    "##### 2. Define Ha:\n",
    "        \n",
    "       credit card usage for male & female is different\n",
    "                       or\n",
    "                     u1 <> u2\n",
    "        \n",
    "##### 3. At CI = 95%,\n",
    "            \n",
    "            p value = 0.05\n",
    "\n",
    "##### 4. Perform the test:\n",
    "                \n",
    "                ttest---> independent"
   ]
  },
  {
   "cell_type": "code",
   "execution_count": 29,
   "id": "2ced5227",
   "metadata": {},
   "outputs": [
    {
     "data": {
      "text/plain": [
       "Ttest_indResult(statistic=0.7480109580953392, pvalue=0.4553410655360075)"
      ]
     },
     "execution_count": 29,
     "metadata": {},
     "output_type": "execute_result"
    }
   ],
   "source": [
    "stats.ttest_ind(male_usage, female_usage)"
   ]
  },
  {
   "cell_type": "markdown",
   "id": "a6ed5db0",
   "metadata": {},
   "source": [
    "##### 5. Rejection Rule:\n",
    "        \n",
    "        Since new p-value > 0.05, We fail to reject H0!\n",
    "\n",
    "##### 6. Business  Conclusion:\n",
    "        \n",
    "       there is no difference in  card usage for male & female customers"
   ]
  },
  {
   "cell_type": "code",
   "execution_count": 30,
   "id": "d92e32da",
   "metadata": {},
   "outputs": [],
   "source": [
    "##### Post campaign:\n",
    "usage = 'Latest_mon_usage'"
   ]
  },
  {
   "cell_type": "code",
   "execution_count": 34,
   "id": "49a35db6",
   "metadata": {},
   "outputs": [],
   "source": [
    "male_usage = data.loc[data.gender == 0, usage]\n",
    "female_usage = data.loc[ data.gender ==  1, usage]"
   ]
  },
  {
   "cell_type": "code",
   "execution_count": 32,
   "id": "1d5308bf",
   "metadata": {},
   "outputs": [
    {
     "name": "stdout",
     "output_type": "stream",
     "text": [
      "Mean card usage for male customers =  63.53406593406595\n",
      "Mean card usage for female customers =  62.87339449541283\n"
     ]
    }
   ],
   "source": [
    "print(\"Mean card usage for male customers = \", male_usage.mean())\n",
    "print(\"Mean card usage for female customers = \", female_usage.mean())"
   ]
  },
  {
   "cell_type": "code",
   "execution_count": 33,
   "id": "93e12149",
   "metadata": {},
   "outputs": [
    {
     "data": {
      "text/plain": [
       "Ttest_indResult(statistic=0.41299864929687874, pvalue=0.680054497423219)"
      ]
     },
     "execution_count": 33,
     "metadata": {},
     "output_type": "execute_result"
    }
   ],
   "source": [
    "stats.ttest_ind(male_usage, female_usage)"
   ]
  },
  {
   "cell_type": "markdown",
   "id": "bb9ba609",
   "metadata": {},
   "source": [
    "### Q6. Campaign was successful in terms of credit card usage"
   ]
  },
  {
   "cell_type": "code",
   "execution_count": 37,
   "id": "fb1c0244",
   "metadata": {},
   "outputs": [
    {
     "data": {
      "text/plain": [
       "Ttest_relResult(statistic=-8.866832246938742, pvalue=4.295733828012836e-16)"
      ]
     },
     "execution_count": 37,
     "metadata": {},
     "output_type": "execute_result"
    }
   ],
   "source": [
    "stats.ttest_rel(data.pre_usage, data.post_usage_2ndmonth)"
   ]
  },
  {
   "cell_type": "code",
   "execution_count": 36,
   "id": "e43d164e",
   "metadata": {},
   "outputs": [
    {
     "name": "stdout",
     "output_type": "stream",
     "text": [
      "Mean of card usage before campaign =  52.23\n",
      "Mean of card usage after campaign =  58.05250000000003\n"
     ]
    }
   ],
   "source": [
    "print(\"Mean of card usage before campaign = \", data.pre_usage.mean() )\n",
    "print(\"Mean of card usage after campaign = \", data.post_usage_2ndmonth.mean() )"
   ]
  },
  {
   "cell_type": "markdown",
   "id": "cf4a76e6",
   "metadata": {},
   "source": [
    "##### 1. Define H0:\n",
    "        \n",
    "        u2 <= u1\n",
    "\n",
    "        \n",
    "##### 2. Define Ha:\n",
    "        \n",
    "               u2 > u1\n",
    "        \n",
    "##### 3. At CI = 95%,\n",
    "            \n",
    "            p value = 0.05\n",
    "\n",
    "##### 4. Perform the test:\n",
    "                \n",
    "                t-test"
   ]
  },
  {
   "cell_type": "markdown",
   "id": "fb9fd611",
   "metadata": {},
   "source": [
    "##### 5. Rejection Rule:\n",
    "        \n",
    "        Since new p-value < 0.05, We will reject H0!\n",
    "\n",
    "##### 6. Business  Conclusion:\n",
    "        \n",
    "       Post campaign credit card usage is different than pre-campaign."
   ]
  },
  {
   "cell_type": "code",
   "execution_count": null,
   "id": "7a2cfcd3",
   "metadata": {},
   "outputs": [],
   "source": []
  },
  {
   "cell_type": "code",
   "execution_count": null,
   "id": "606cd4a3",
   "metadata": {},
   "outputs": [],
   "source": []
  }
 ],
 "metadata": {
  "kernelspec": {
   "display_name": "Python 3 (ipykernel)",
   "language": "python",
   "name": "python3"
  },
  "language_info": {
   "codemirror_mode": {
    "name": "ipython",
    "version": 3
   },
   "file_extension": ".py",
   "mimetype": "text/x-python",
   "name": "python",
   "nbconvert_exporter": "python",
   "pygments_lexer": "ipython3",
   "version": "3.12.4"
  }
 },
 "nbformat": 4,
 "nbformat_minor": 5
}
